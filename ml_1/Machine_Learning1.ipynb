{
  "cells": [
    {
      "cell_type": "code",
      "execution_count": null,
      "metadata": {
        "colab": {
          "base_uri": "https://localhost:8080/"
        },
        "id": "Ml8SUOSJTVkG",
        "outputId": "fe33e835-b16f-4f7d-af83-1cf523615d4b"
      },
      "outputs": [
        {
          "output_type": "stream",
          "name": "stdout",
          "text": [
            "--2022-05-11 16:27:41--  https://raw.githubusercontent.com/sandeco/CanalSandeco/master/Deep%20Learning%20s%C3%A9rie/%2306%20-%20GD%20M%C3%BAltiplas%20Vari%C3%A1veis/prices.csv\n",
            "Resolving raw.githubusercontent.com (raw.githubusercontent.com)... 185.199.108.133, 185.199.109.133, 185.199.110.133, ...\n",
            "Connecting to raw.githubusercontent.com (raw.githubusercontent.com)|185.199.108.133|:443... connected.\n",
            "HTTP request sent, awaiting response... 200 OK\n",
            "Length: 676 [text/plain]\n",
            "Saving to: ‘prices.csv’\n",
            "\n",
            "\rprices.csv            0%[                    ]       0  --.-KB/s               \rprices.csv          100%[===================>]     676  --.-KB/s    in 0s      \n",
            "\n",
            "2022-05-11 16:27:41 (37.0 MB/s) - ‘prices.csv’ saved [676/676]\n",
            "\n"
          ]
        }
      ],
      "source": [
        "# Manipulação de dados\n",
        "import pandas as pd\n",
        "import numpy as np\n",
        "import math\n",
        "# Visualização de dados\n",
        "import matplotlib.pyplot as plt\n",
        "import seaborn as sns\n",
        "\n",
        "# Machine Learning \n",
        "from sklearn import metrics # analisa a acurácia de nossos modelos\n",
        "# Ocultando Warnings indesejados\n",
        "\n",
        "\n",
        "\n",
        "from sklearn.datasets import load_breast_cancer #importando a base de dados nativas no sklearn\n",
        "\n",
        "dados=load_breast_cancer() # Carregando base de dados\n",
        "\n",
        "# vamos ver a descrição de nossa base de dados\n",
        "#print(dados.DESCR)\n",
        "\n",
        "cancer=pd.DataFrame(data=dados.data, columns=dados.feature_names) # convertendo para dataframe com ajuda do Pandas\n",
        "\n",
        "cancer['Class']=dados.target # Adicionando a nossa Target\n",
        "!wget https://raw.githubusercontent.com/sandeco/CanalSandeco/master/Deep%20Learning%20s%C3%A9rie/%2306%20-%20GD%20M%C3%BAltiplas%20Vari%C3%A1veis/prices.csv\n",
        "df = pd.read_csv('prices.csv', on_bad_lines='skip')"
      ]
    },
    {
      "cell_type": "code",
      "execution_count": null,
      "metadata": {
        "id": "KmBAtN_eiS2Z"
      },
      "outputs": [],
      "source": [
        "from sklearn.model_selection import train_test_split\n",
        "\n",
        "# primeiro vamos dividir nossa base de dados entre features e target\n",
        "X= cancer.iloc[:,0:-1]# Selecionando todas as linhas, da primeira coluna até a penúltima coluna.\n",
        "Y=cancer.iloc[:,-1] # Selecionando todas as linhas da última coluna ['Class'].\n",
        "\n",
        "\n",
        "x_train,x_test,y_train,y_test=train_test_split(X,Y,test_size=0.30,random_state=42)"
      ]
    },
    {
      "cell_type": "markdown",
      "metadata": {
        "id": "bY_cGDGUj2Xs"
      },
      "source": [
        "### Funções auxiliares\n",
        "\n",
        "\n",
        "Reta = Hipotese = $$ w_0 + w_1*X $$\n",
        "\n",
        "###Sigmoide\n",
        "Sigmoide = $$ \\frac{1}{1+e^{-x}} $$\n"
      ]
    },
    {
      "cell_type": "code",
      "execution_count": null,
      "metadata": {
        "id": "Re_RxULMj6p0"
      },
      "outputs": [],
      "source": [
        "def sigmoide(x):\n",
        "  return 1/(1+math.exp(-x))"
      ]
    },
    {
      "cell_type": "markdown",
      "metadata": {
        "id": "hQ9V4BZe22Fy"
      },
      "source": [
        "### Regressão Linear"
      ]
    },
    {
      "cell_type": "markdown",
      "metadata": {
        "id": "NrjOHu-DY3cf"
      },
      "source": [
        "###Erro Medio Quadrático  MSE\n",
        "\n",
        "MSE(Erro Médio Quadrático) = $$ \\frac{1}{m}∑_{i=0}^m (y'_i - y_i)^2 $$\n",
        "\n",
        "sendo y' = $ w_0 + w_1*X $\n",
        "\n",
        "\n",
        "###Gradiente descendente 1 variavel\n",
        "\n",
        "\n",
        "Repita n vezes{\n",
        "  $$ w_0 := w_0 - αΔ_{w_0} $$\n",
        "  $$ w_1 := w_1 - αΔ_{w_1} $$\n",
        "}\n",
        "\n",
        "###Gradiente Descendente\n",
        "\n",
        "Sendo $ α $, taxa de aprendizado \\\\\n",
        "Sendo $Δ_{w_i} $, gradiente(derivada)\n",
        "\n",
        "$$ Δ_{w_0} = \\frac{δJ}{δw_0} J(w_0, w_1) $$\n",
        "\n",
        "$$ Δ_{w_1} = \\frac{δJ}{δw_0} J(w_0, w_1) $$\n",
        "\n",
        "Sendo MSE = $ J(w_0, w_1) $\n",
        "\n",
        "\n",
        "para $Δ_{w_0}$\n",
        "\\\n",
        "$$ Δ_{w_0} = \\frac{dJ}{dw_0} \\frac{1}{2m} ∑_{i=0}^m (y' - y)^2 $$\n",
        "\\\n",
        "\\\n",
        "$$ Δ_{w_0} = \\frac{dJ}{dw_1} \\frac{1}{2m} ∑_{i=0}^m ( (w_0 + w_1*X_i) - y)^2 $$\n",
        "\\\n",
        "\\\n",
        "$$ Δ_{w_0} = \\frac{1}{2m} ∑_{i=0}^m \\frac{dJ}{dw_0}( (w_0 + w_1*X_i) - y)^2 $$\n",
        "\\\n",
        "\\\n",
        "$$ Δ_{w_0} = \\frac{1}{m} ∑_{i=0}^m ( (w_0 + w_1X) - y)$$\n",
        "\\\n",
        "\\\n",
        "$$ Δ_{w_0} = \\frac{1}{m} ∑_{i=0}^m ( y' - y)$$\n",
        "\\\n",
        "\\\n",
        "\\\n",
        "\\\n",
        "para $Δ_{w_1}$\n",
        "\\\n",
        "$$ Δ_{w_1} = \\frac{dJ}{dw_1} \\frac{1}{2m} ∑_{i=0}^m (y' - y)^2 $$\n",
        "\\\n",
        "\\\n",
        "$$ Δ_{w_1} = \\frac{dJ}{dw_1} \\frac{1}{2m} ∑_{i=0}^m ( (w_0 + w_1*X_i) - y)^2 $$\n",
        "\\\n",
        "\\\n",
        "$$ Δ_{w_1} = \\frac{1}{2m} ∑_{i=0}^m \\frac{dJ}{dw_1}( (w_0 + w_1*X_i) - y)^2 $$\n",
        "\\\n",
        "\\\n",
        "$$ Δ_{w_1} = \\frac{1}{2m} ∑_{i=0}^m 2( (w_0 + w_1*X_i) - y) (X_i) $$\n",
        "\\\n",
        "\\\n",
        "$$ Δ_{w_1} = \\frac{1}{m} ∑_{i=0}^m (y' - y) (X_i) $$\n",
        "\n",
        "###Gradiente Descendente Atualizado\n",
        "Repetir n vezes{\n",
        "  $$w_0 := w_0 - α \\frac{1}{m} ∑_{i=0}^m (y'_i-y_i) $$\n",
        "\\\n",
        "  $$w_1 := w_1 - α \\frac{1}{m} ∑_{i=0}^m x_i(y'_i - y_i) $$\n",
        "\n",
        "}\n",
        "\n",
        "\n",
        "###Custo:\n",
        "\n",
        "$$ \\frac{1}{m} ∑_{i=0}^m ( y'_i - y_i)$$\n",
        "\n",
        "\n",
        "###Algoritmo\n",
        "\n",
        "#### Hyperparametros:\n",
        "lr = Learning Rate = $α$ \\\n",
        "epochs = Numero de iterações = $n$ \\\n",
        "\n",
        "#### Entradas\n",
        "x = features \\\n",
        "y = ground truth \\\n",
        "\\\n",
        "inicia-se os pesos $w_0, w_1$, exemplo \\\n",
        "$$w_0 = 0.1 $$ \\\n",
        "$$w_1 = 0.1 $$\\\n",
        "\\\n",
        "e seta os hiperparametros, exemplo \\\n",
        "$$lr = 0.1  $$ \\\\\n",
        "$$epochs = 10 $$\n",
        "\n",
        "para cada iteração até o numero de epocas: \n",
        "  calcular os erros w0, w1 e o custo: \\\n",
        "\n",
        "  $$ y' = w_0 + w_1*X $$ \\\\\n",
        "\n",
        "  $$ erro_{w0} =  \\frac{1}{m} ∑_{i=0}^m ( y'_i - y_i) $$ \\\\\n",
        "\n",
        "   $$ erro_{w1} =  \\frac{1}{m} ∑_{i=0}^m x_i( y'_i - y_i) $$ \\\\\n",
        "\n",
        "   $$ custo = \\frac{1}{m} ∑_{i=0}^m ( y'_i - y_i)$$\n",
        "\n",
        "calcule os novos pesos: \\\n",
        "\n",
        "$$ w_0 = w_0 - erro_{w0} $$ \\\\\n",
        "$$ w_1 = w_1 - erro_{w1} $$\n",
        "\n",
        "retorna $w_0,\\ w_1$, custo\n",
        "\n"
      ]
    },
    {
      "cell_type": "code",
      "execution_count": null,
      "metadata": {
        "id": "Ta9AcZMKw8PG"
      },
      "outputs": [],
      "source": [
        "## Função de custo\n",
        "\n",
        "#Mean Square Error - Erro Médio Quadrático\n",
        "def MSE(predict, ground_truth):\n",
        "  m = predict.size\n",
        "  erro = sum((predict-ground_truth)**2)\n",
        "  return erro/(2*m)\n",
        "\n",
        "def cost(x, y, w0, w1):\n",
        "  predict = np.asarray([y_hat(x[i], w0, w1) for i in range(len(x))])\n",
        "  return 2*MSE(predict, y)\n",
        "\n",
        "\n",
        "## valores preditos\n",
        "def y_hat(x, w0, w1):\n",
        "  return w0 + w1*x\n",
        "\n",
        "\n",
        "## plotar linha\n",
        "def plot_line(x, y, w0, w1):\n",
        "  x_values = [i for i in range(int(min(x))-1, int(max(x))+2)]\n",
        "  y_values = [y_hat(x, w0, w1) for x in x_values]\n",
        "  plt.plot(x_values, y_values)\n",
        "  plt.plot(x, y, 'bo')\n",
        "\n",
        "\n",
        "##passo do gradiente descendente\n",
        "##x = vetor de features\n",
        "##y = ground_truth\n",
        "\n",
        "\n",
        "def gradientDescStep(x, y, w0, w1, lr):\n",
        "  erro_w0 = 0\n",
        "  erro_w1 = 0\n",
        "  m = len(x)\n",
        "\n",
        "  for i in range(m):\n",
        "    erro_w0 += y_hat(y[i], w0, w1)-y[i]\n",
        "    erro_w1 += y_hat(y[i], w0, w1)-y[i]*x[i]\n",
        "    \n",
        "  w0_n = w0-(lr/m)*erro_w0\n",
        "  w1_n = w1-(lr/m)*erro_w1\n",
        "  return w0_n, w1_n\n",
        "\n",
        "\n",
        "##algoritmo de gradiente descendente\n",
        "def gradientDesc(x, y, w0, w1, lr, epochs):\n",
        "  custo = []\n",
        "  for i in range(epochs):\n",
        "    w0, w1 = gradientDescStep(x, y, w0, w1, lr)\n",
        "    custo.append(cost(x, y, w0, w1))\n",
        "    #print(\"epoch: \", i)\n",
        "    #print(\"custo: \", custo[i])\n",
        "\n",
        "  return w0, w1, custo\n"
      ]
    },
    {
      "cell_type": "code",
      "execution_count": null,
      "metadata": {
        "colab": {
          "base_uri": "https://localhost:8080/",
          "height": 269
        },
        "id": "MQAjJWY0KWZc",
        "outputId": "b2aa8523-2b99-473b-c89b-9e2f5d3ec495"
      },
      "outputs": [
        {
          "output_type": "display_data",
          "data": {
            "text/plain": [
              "<Figure size 432x288 with 1 Axes>"
            ],
            "image/png": "[encoded data removed]"
          },
          "metadata": {
            "needs_background": "light"
          }
        }
      ],
      "source": [
        "### Teste funções\n",
        "\n",
        "lr = 0.01\n",
        "epochs = 40\n",
        "\n",
        "w0 = 0.1\n",
        "w1 = 0.1\n",
        "\n",
        "x = [0.5, 2.2, 2.0]\n",
        "y = [2.0, 2.5, 1.4]\n",
        "\n",
        "w0, w1, custo =gradientDesc(x, y,w0, w1, lr, epochs)\n",
        "\n",
        "plot_line(x, y, w0, w1 )"
      ]
    },
    {
      "cell_type": "markdown",
      "metadata": {
        "id": "ir0SKGaVY8ht"
      },
      "source": [
        "### Multiplas Variaveis\n",
        "\n",
        "$$ y' = w_0X_0+ w_1X_1 + w_2X_2 + ... +w_nX_n$$\n",
        "\n",
        "sendo $X_0 = 1$\n",
        "\n",
        "#### Isso pode ser escrito na forma de 2 vetores\n",
        "\n",
        "$$ X_{features} = \\begin{bmatrix}\n",
        "X_0 \\\\\n",
        "X_1 \\\\\n",
        "X_2 \\\\\n",
        ". \\\\\n",
        ". \\\\\n",
        ". \\\\\n",
        "X_n \\\\\n",
        "\\end{bmatrix} \n",
        "\\\n",
        "w_{pesos} = \\begin{bmatrix}\n",
        "w_0 \\\\\n",
        "w_1 \\\\\n",
        "w_2 \\\\\n",
        ". \\\\\n",
        ". \\\\\n",
        ". \\\\\n",
        "w_n \\\\\n",
        "\\end{bmatrix}\n",
        "$$\n",
        "\n",
        "####Gradiente com Multiplas variaveis\n",
        "\n",
        "$$w_0 := w_0 - α \\frac{1}{m} \\sum_{i=1}^m (y'_i - y_i) X_0^i$$\n",
        "\n",
        "$$w_1 := w_1 - α \\frac{1}{m} \\sum_{i=1}^m (y'_i - y_i) X_1^i$$\n",
        "\n",
        "$$w_2 := w_2 - α \\frac{1}{m} \\sum_{i=1}^m (y'_i - y_i) X_2^i$$\n",
        "\n",
        "$$w_n := w_n - α \\frac{1}{m} \\sum_{i=1}^m (y'_i - y_i) X_n^i$$\n",
        "\n",
        "\n",
        "para cada j em w {\n",
        "  $$w_j := w_j - α \\frac{1}{m} \\sum_{i=1}^m (y'_i - y_i) X_j^i$$\n",
        "}\n",
        "\n",
        "####A hipotese\n",
        "\n",
        "$$y' = w^TX$$\n",
        "\n",
        "sendo assim\n",
        "\n",
        "\n",
        "para cada j em w {\n",
        "  $$w_j := w_j - α \\frac{1}{m} \\sum_{i=1}^m (w^t_iX_i - y_i) X_j^i$$\n",
        "}\n",
        "\n"
      ]
    },
    {
      "cell_type": "code",
      "execution_count": null,
      "metadata": {
        "id": "i_svYdJMY-nC"
      },
      "outputs": [],
      "source": [
        "def costMSE(w, x, y):\n",
        "  m = x.shape[0]                      #número de linhas\n",
        "  x_extend = np.concatenate((np.ones([m, 1]), x), axis=1)\n",
        "  y_ = x_extend@w.T                   #calculando y'\n",
        "  return sum((y_-y)**2)/m\n",
        "\n",
        "\n",
        "def gradientDescStepM(w, x, y, lr):\n",
        "  m = x.shape[0]\n",
        "  #y = np.squeeze(y)\n",
        "  x_extend = np.concatenate((np.ones([m, 1]), x), axis=1)\n",
        "  y_ = x_extend@w.T\n",
        "  print(\"y: \", y.shape,\"y_: \", y_.shape, \"x_extend: \",x_extend.shape, \"w: \", w.shape)\n",
        "  #print(x_extend[0])\n",
        "  #print(x_extend[1])\n",
        "  ##w = w - (lr/m)*sum(y_ - y)\n",
        "  #aux = w - (lr/m)\n",
        "  w1 = w - (lr/m*1.0) * (np.sum((y_ - y)*x_extend, axis = 0))\n",
        "  w2 = w - (lr/m) * sum((y_ - y)*x_extend)\n",
        "  w3 = w - (lr/m) * ((y_ -y).T@x_extend)\n",
        "\n",
        "  w = w - (lr/m) * sum((y_ - y)*x_extend)\n",
        "\n",
        "  #print(\"w:\", w)\n",
        "  #print(\"w1:\",w1)\n",
        "  #print(\"w2:\",w2)\n",
        "  #print(\"w3:\",w3)\n",
        "\n",
        "  return w\n",
        "\n",
        "def fff(w, x, y, lr, epochs):\n",
        "  cost = []\n",
        "\n",
        "  for epoch in range(epochs):\n",
        "    w = gradientDescStepM(w, x, y, lr)\n",
        "    cost.append(costMSE(w, x, y))\n",
        "\n",
        "  return cost, w"
      ]
    },
    {
      "cell_type": "code",
      "execution_count": null,
      "metadata": {
        "colab": {
          "base_uri": "https://localhost:8080/"
        },
        "id": "d2RDnGPcIhET",
        "outputId": "009203a1-3775-44af-ff34-bc41e1dc4d78"
      },
      "outputs": [
        {
          "output_type": "stream",
          "name": "stdout",
          "text": [
            "y:  (47, 1) y_:  (47, 1) x_extend:  (47, 3) w:  (1, 3)\n",
            "[[0.099      0.10684119 0.10280174]]\n"
          ]
        }
      ],
      "source": [
        "df = pd.read_csv('prices.csv')\n",
        "\n",
        "## normalizando os dados\n",
        "\n",
        "df_norm = (df - df.mean()) / df.std()\n",
        "#print(df_norm)\n",
        "\n",
        "n_features = len(df_norm.columns)-1\n",
        "n_features\n",
        "\n",
        "##w = np.random.rand(1, n_features+1)\n",
        "w = np.ones([1, n_features+1])/10\n",
        "x = np.asarray(df_norm)[:,:-1]\n",
        "y = df_norm.iloc[:,2:3].values\n",
        "\n",
        "lr = 0.01\n",
        "epochs = 1\n",
        "\n",
        "cost, w = fff(w, x, y, lr, epochs)\n",
        "\n",
        "print(w)"
      ]
    },
    {
      "cell_type": "code",
      "execution_count": null,
      "metadata": {
        "colab": {
          "base_uri": "https://localhost:8080/",
          "height": 296
        },
        "id": "juIWvo2WbQ7q",
        "outputId": "d5d4fa99-74b3-460a-ac81-4ca9d75af636"
      },
      "outputs": [
        {
          "output_type": "execute_result",
          "data": {
            "text/plain": [
              "Text(0, 0.5, 'custo')"
            ]
          },
          "metadata": {},
          "execution_count": 8
        },
        {
          "output_type": "display_data",
          "data": {
            "text/plain": [
              "<Figure size 432x288 with 1 Axes>"
            ],
            "image/png": "[encoded data removed]"
          },
          "metadata": {
            "needs_background": "light"
          }
        }
      ],
      "source": [
        "fig, ax = plt.subplots()\n",
        "ax.plot(np.arange(epochs), cost, 'r')\n",
        "ax.set_xlabel('iterations')\n",
        "ax.set_ylabel('custo')"
      ]
    },
    {
      "cell_type": "markdown",
      "metadata": {
        "id": "knlciVt5L6xi"
      },
      "source": [
        "### Regressão Logistica\n",
        "\n",
        "\n",
        "####Sigmoide \n",
        "$$ y' = \\frac{1}{1+e^{w^TX}} $$\n",
        "\n",
        "\n",
        "####Funão de erro (Binary Cross Entropy):\n",
        "\n",
        "$$ -y \\log{(y')}-(1-y) \\log{(1-y')} $$\n",
        "\n",
        "\n",
        "####Custo Médio:\n",
        "$$ \\frac{1}{m} \\sum_{i=1}^{m} BCE $$\n",
        "\\\n",
        "$$ \\frac{1}{m} \\sum_{i=1}^{m} -y \\log{(y')}-(1-y) \\log{(1-y')} $$\n",
        "\n",
        "\n",
        "#### Otimização com Gradiente:\n",
        "\n",
        "para cada j em w {\n",
        "  $$w_j := w_j - α \\frac{1}{m} \\sum_{i=1}^m ( \\frac{1}{1+e^{w^TX}} - y_i) X_j^i$$\n",
        "}\n",
        "\n",
        "\n"
      ]
    },
    {
      "cell_type": "code",
      "execution_count": null,
      "metadata": {
        "id": "RypvTeNpL8tX"
      },
      "outputs": [],
      "source": [
        "def sigmoide(z):\n",
        "  return 1/(1+np.exp(-z))\n",
        "\n",
        "def extendX(x):\n",
        "  m = x.shape[0]                      #número de linhas\n",
        "  return np.concatenate((np.ones([m, 1]), x), axis=1)\n",
        "\n",
        "def binaryCrossEntropy(w, x, y):\n",
        "  y_ = sigmoide(x@w.T)\n",
        "  return (-y*np.log(y_))-((1-y)*np.log(1-y_))\n",
        "\n",
        "def meanCost(w, x, y):\n",
        "  m = y.shape\n",
        "  return sum(binaryCrossEntropy(w, x, y))/m\n",
        "\n",
        "def logisticGradientDesc(w, x, y, lr, epochs):\n",
        "  m = x.shape[1]\n",
        "  y_ = np.zeros(1)\n",
        "  #print(m)\n",
        "  cost = []\n",
        "  for i in range(epochs):\n",
        "    y_ = sigmoide(x@w.T)\n",
        "    #print(\"y: \", y.shape,\"y_: \", y_.shape, \"x: \",x.shape, \"w: \", w.shape)\n",
        "    w = w - (lr/m) * sum((x.T*(y_ - y)).T)\n",
        "    cost.append(meanCost(w, x, y))\n",
        "\n",
        "  return w, cost\n",
        "\n",
        "def arcuracy(y_, y):\n",
        "  vp = 0\n",
        "  vn = 0\n",
        "  fp = 0\n",
        "  fn = 0\n",
        "\n",
        "  for i in range(len(y)):\n",
        "    if(y_[i] == y[i] and y_[i] == 1):\n",
        "      vp+=1\n",
        "    elif(y_[i] == y[i] and y_[i] == 0):\n",
        "      vn+=1\n",
        "    elif(y_[i] != y[i] and y_[i] == 1):\n",
        "      fp+=1\n",
        "    elif(y_[i] != y[i] and y_[i] == 0):\n",
        "      fn+=1\n",
        "  print(\"arcuracy: \", (vp+vn)/(vp+vn+fp+fn))\n",
        "\n",
        "def train(w, x, y, lr, epochs):\n",
        "  print(\"Train\")\n",
        "  w, cost = logisticGradientDesc(w, x, y, lr, epochs)\n",
        "  return w, cost\n",
        "\n",
        "def test(w, x, y):\n",
        "  print(\"Test\")\n",
        "  #print(x[0,:])\n",
        "  bce = (sigmoide(x@w.T))\n",
        "  #print(bce)\n",
        "  result = []\n",
        "  for i in bce:\n",
        "    #print(i)\n",
        "    if i >= 0.5:\n",
        "      result.append(1)\n",
        "    else:\n",
        "      result.append(0)\n",
        "  #print(np.asarray(result))\n",
        "  #print(y)\n",
        "  arcuracy(result, y)\n",
        "      \n",
        "\n",
        "def logisticRegression(w, x_train, y_train, x_test, y_test, lr, epochs):\n",
        "  print(\"Learning Rate: \", lr)\n",
        "  print(\"Epochs: \", epochs)\n",
        "  print(\"X_Train: \", x_train.shape)\n",
        "  print(\"Y_Train: \", y_train.shape)\n",
        "  print(\"X_Test: \", x_test.shape)\n",
        "  print(\"Y_test: \", y_test.shape)\n",
        "\n",
        "  w, cost = train(w, x_train, y_train, lr, epochs)\n",
        "  test(w, x_test, y_test)\n",
        "  \n",
        "  #print(w)"
      ]
    },
    {
      "cell_type": "code",
      "execution_count": null,
      "metadata": {
        "colab": {
          "base_uri": "https://localhost:8080/"
        },
        "id": "7QGPVNSsUG8-",
        "outputId": "ce9cfb6d-9456-437b-f0f7-a45ae0f39f14"
      },
      "outputs": [
        {
          "output_type": "stream",
          "name": "stdout",
          "text": [
            "Learning Rate:  0.01\n",
            "Epochs:  100\n",
            "X_Train:  (398, 31)\n",
            "Y_Train:  (398,)\n",
            "X_Test:  (171, 31)\n",
            "Y_test:  (171,)\n",
            "Train\n",
            "Test\n",
            "arcuracy:  0.9415204678362573\n"
          ]
        }
      ],
      "source": [
        "\n",
        "# primeiro vamos dividir nossa base de dados entre features e target\n",
        "X= cancer.iloc[:,0:-1]# Selecionando todas as linhas, da primeira coluna até a penúltima coluna.\n",
        "Y=cancer.iloc[:,-1] # Selecionando todas as linhas da última coluna ['Class'].\n",
        "\n",
        "x_train,x_test,y_train,y_test=train_test_split(X,Y,test_size=0.30,random_state=42)\n",
        "\n",
        "epochs = 100\n",
        "x = np.asarray(x_train)\n",
        "x = (x - x.mean()) / x.std() ##normalization\n",
        "y_train = np.asarray(y_train)      ##convert in to numpy array\n",
        "x_train = extendX(x)               ##extend with ones\n",
        "\n",
        "x = np.asarray(x_test)\n",
        "x = (x - x.mean()) / x.std() ##normalization\n",
        "y_test = np.asarray(y_test)      ##convert in to numpy array\n",
        "x_test = extendX(x)               ##extend with ones\n",
        "\n",
        "lr = 0.01\n",
        "#w = np.random.rand(1, x.shape[1]+1)\n",
        "w = np.ones(x_train.shape[1])/10\n",
        "#print(x)\n",
        "#print(y)\n",
        "#print(sigmoide(x@w.T))\n",
        "\n",
        "#w, cost = logisticGradientDesc(w, x, y, lr, epochs)\n",
        "#print(w.shape)\n",
        "logisticRegression(w, x_train, y_train, x_test, y_test, lr, epochs)"
      ]
    },
    {
      "cell_type": "code",
      "execution_count": null,
      "metadata": {
        "id": "t8bif_xRlzya"
      },
      "outputs": [],
      "source": [
        ""
      ]
    }
  ],
  "metadata": {
    "colab": {
      "name": "Machine_Learning1.ipynb",
      "provenance": [],
      "collapsed_sections": []
    },
    "kernelspec": {
      "display_name": "Python 3",
      "name": "python3"
    },
    "language_info": {
      "name": "python"
    }
  },
  "nbformat": 4,
  "nbformat_minor": 0
}